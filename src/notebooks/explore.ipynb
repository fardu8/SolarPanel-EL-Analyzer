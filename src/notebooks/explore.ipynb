{
 "cells": [
  {
   "cell_type": "code",
   "execution_count": 1,
   "metadata": {},
   "outputs": [],
   "source": [
    "import pickle as pk\n",
    "import numpy as np\n",
    "import cv2\n",
    "from sklearn.model_selection import train_test_split\n",
    "from skimage.transform import resize\n",
    "from matplotlib import pyplot as plt\n",
    "import pandas as pd\n",
    "from sklearn.preprocessing import LabelEncoder\n",
    "from sklearn.metrics import accuracy_score, confusion_matrix, f1_score, ConfusionMatrixDisplay"
   ]
  },
  {
   "cell_type": "code",
   "execution_count": 2,
   "metadata": {},
   "outputs": [],
   "source": [
    "def min_max_normal(channel, c, d):\n",
    "    O = (channel.astype(\"float\") - c) * (255 / (d - c))\n",
    "    O = np.clip(O, 0, 255)\n",
    "    return O.astype(\"uint8\")\n",
    "\n",
    "\n",
    "def HSV_contrast(I):\n",
    "    R, G, B = cv2.split(I)\n",
    "\n",
    "    H, S, V = cv2.split(cv2.cvtColor(I, cv2.COLOR_RGB2HSV))\n",
    "\n",
    "    c = np.min(V)\n",
    "    d = np.max(V)\n",
    "\n",
    "    R = min_max_normal(channel=R, c=c, d=d)\n",
    "    G = min_max_normal(channel=G, c=c, d=d)\n",
    "    B = min_max_normal(channel=B, c=c, d=d)\n",
    "\n",
    "    O = cv2.merge([R, G, B])\n",
    "    O = cv2.cvtColor(O, cv2.COLOR_RGB2GRAY)\n",
    "\n",
    "    return O\n",
    "\n",
    "\n",
    "def contrast_stretch(I):\n",
    "    kernel = np.array([[1, 1, 1], [1, -8, 1], [1, 1, 1]])\n",
    "    I = HSV_contrast(cv2.cvtColor(I, cv2.COLOR_BGR2RGB))\n",
    "    I = resize(I, (224, 224))\n",
    "\n",
    "    gaus = cv2.GaussianBlur(I, (3, 3), 5.0)\n",
    "\n",
    "    erode = cv2.erode(gaus, kernel=kernel).flatten()\n",
    "    return erode\n"
   ]
  },
  {
   "cell_type": "code",
   "execution_count": 3,
   "metadata": {},
   "outputs": [],
   "source": [
    "with open(\"../data/pickles/augmented.pkl\", \"rb\") as f:\n",
    "    data = pk.load(f)\n",
    "\n",
    "row, col = 300, 300\n",
    "dimension = (row, col, 1)\n",
    "\n",
    "images, probs, types = data\n",
    "y = probs"
   ]
  },
  {
   "cell_type": "code",
   "execution_count": 4,
   "metadata": {},
   "outputs": [],
   "source": [
    "mask = (types == 'poly')"
   ]
  },
  {
   "cell_type": "code",
   "execution_count": 5,
   "metadata": {},
   "outputs": [],
   "source": [
    "images = images[mask]\n",
    "probs = probs[mask]"
   ]
  },
  {
   "cell_type": "code",
   "execution_count": 6,
   "metadata": {},
   "outputs": [],
   "source": [
    "processed = []\n",
    "for I in images:\n",
    "    processed.append(contrast_stretch(I))\n",
    "\n",
    "processed = np.stack(processed)\n"
   ]
  },
  {
   "cell_type": "code",
   "execution_count": 7,
   "metadata": {},
   "outputs": [],
   "source": [
    "train_X, test_X, train_y, test_y = train_test_split(\n",
    "    processed, probs, test_size=0.25, stratify=probs\n",
    ")\n",
    "train_X, test_X = train_X.T, test_X.T"
   ]
  },
  {
   "cell_type": "code",
   "execution_count": 8,
   "metadata": {},
   "outputs": [],
   "source": [
    "def shift_mean(T):\n",
    "    mu = np.mean(T, axis=1)\n",
    "    Q = T - mu[:, np.newaxis]\n",
    "    T_norms = np.linalg.norm(Q, np.inf, axis=1)\n",
    "    T_norms[T_norms == 0] = 1\n",
    "    T = Q / T_norms[:, np.newaxis]\n",
    "    mu = mu.reshape((mu.shape[0], -1))\n",
    "    T_norms = T_norms.reshape((T_norms.shape[0], -1))\n",
    "    return T, T_norms, mu"
   ]
  },
  {
   "cell_type": "code",
   "execution_count": 9,
   "metadata": {},
   "outputs": [],
   "source": [
    "train_X, train_norms, train_means = shift_mean(train_X)"
   ]
  },
  {
   "cell_type": "code",
   "execution_count": 167,
   "metadata": {},
   "outputs": [],
   "source": [
    "def get_eigen(T):\n",
    "    S = (1 / T.shape[1]) * (T.T @ T)\n",
    "    D, C = np.linalg.eig(S)\n",
    "    C = np.dot(T, C)\n",
    "    C = C / np.linalg.norm(C, axis=0)\n",
    "    return C, D\n",
    "    "
   ]
  },
  {
   "cell_type": "code",
   "execution_count": 168,
   "metadata": {},
   "outputs": [],
   "source": [
    "C, D = get_eigen(train_X)"
   ]
  },
  {
   "cell_type": "code",
   "execution_count": 176,
   "metadata": {},
   "outputs": [],
   "source": [
    "def reduce_dimensionality(I, k, F, D, train_means, train_norms):\n",
    "    index = D.argsort()[::-1]\n",
    "    D = D[index]\n",
    "    F = F[:, index]\n",
    "    query = (I - train_means.reshape(-1, 1)) / train_norms.reshape(-1, 1)\n",
    "    Z = F.T @ query\n",
    "    Z[k:, :] = 0\n",
    "    p = np.sum(D[:k]) / np.sum(D)\n",
    "\n",
    "    return Z, p"
   ]
  },
  {
   "cell_type": "code",
   "execution_count": 177,
   "metadata": {},
   "outputs": [],
   "source": [
    "def reconstruct_image(compressed_images, C, train_norms, train_means):\n",
    "    A = C@compressed_images\n",
    "    A = A * train_norms.reshape(-1, 1)\n",
    "    A = A + train_means.reshape(-1, 1)\n",
    "    return A"
   ]
  },
  {
   "cell_type": "code",
   "execution_count": 178,
   "metadata": {},
   "outputs": [],
   "source": [
    "queries, p = reduce_dimensionality(test_X, 80, C, D, train_means, train_norms)\n",
    "queries = reconstruct_image(queries, C, train_norms, train_means)"
   ]
  },
  {
   "cell_type": "code",
   "execution_count": 179,
   "metadata": {},
   "outputs": [
    {
     "name": "stdout",
     "output_type": "stream",
     "text": [
      "0.9740653625993559\n"
     ]
    }
   ],
   "source": [
    "print(p)"
   ]
  },
  {
   "cell_type": "code",
   "execution_count": 172,
   "metadata": {},
   "outputs": [],
   "source": [
    "def the_nearest_image(query, train):\n",
    "    query = query.reshape(query.shape[0], -1)\n",
    "    norm = np.linalg.norm(query - train, axis = 0)\n",
    "    index = np.argmin(norm)\n",
    "    return index"
   ]
  },
  {
   "cell_type": "code",
   "execution_count": 173,
   "metadata": {},
   "outputs": [],
   "source": [
    "le = LabelEncoder().fit(probs)"
   ]
  },
  {
   "cell_type": "code",
   "execution_count": 174,
   "metadata": {},
   "outputs": [],
   "source": [
    "indices = []\n",
    "for i in range(test_X.shape[1]):\n",
    "    indices.append(the_nearest_image(queries[:, i], train_X))"
   ]
  },
  {
   "cell_type": "code",
   "execution_count": 175,
   "metadata": {},
   "outputs": [],
   "source": [
    "true = []\n",
    "pred = []\n",
    "for i in range(test_X.shape[1]):\n",
    "    true.append(test_y[i])\n",
    "    pred.append(train_y[indices[i]])\n",
    "    \n",
    "true = np.array(true)\n",
    "pred = np.array(pred)"
   ]
  },
  {
   "cell_type": "code",
   "execution_count": 155,
   "metadata": {},
   "outputs": [],
   "source": [
    "true, pred = le.transform(true), le.transform(pred)"
   ]
  },
  {
   "cell_type": "code",
   "execution_count": 156,
   "metadata": {},
   "outputs": [
    {
     "data": {
      "text/plain": [
       "0.5241635687732342"
      ]
     },
     "execution_count": 156,
     "metadata": {},
     "output_type": "execute_result"
    }
   ],
   "source": [
    "accuracy_score(true, pred)"
   ]
  },
  {
   "cell_type": "code",
   "execution_count": 157,
   "metadata": {},
   "outputs": [
    {
     "data": {
      "text/plain": [
       "0.241173343340526"
      ]
     },
     "execution_count": 157,
     "metadata": {},
     "output_type": "execute_result"
    }
   ],
   "source": [
    "f1_score(true, pred, average='macro')"
   ]
  },
  {
   "cell_type": "code",
   "execution_count": 158,
   "metadata": {},
   "outputs": [
    {
     "data": {
      "text/plain": [
       "<sklearn.metrics._plot.confusion_matrix.ConfusionMatrixDisplay at 0x2b6b63710>"
      ]
     },
     "execution_count": 158,
     "metadata": {},
     "output_type": "execute_result"
    },
    {
     "data": {
      "image/png": "[encoded data removed]",
      "text/plain": [
       "<Figure size 640x480 with 2 Axes>"
      ]
     },
     "metadata": {},
     "output_type": "display_data"
    }
   ],
   "source": [
    "cm = confusion_matrix(true, pred)\n",
    "disp = ConfusionMatrixDisplay(cm, display_labels=['0.0', '0.33', '0.66', '1.0'])\n",
    "disp.plot()\n"
   ]
  },
  {
   "cell_type": "code",
   "execution_count": 137,
   "metadata": {},
   "outputs": [
    {
     "data": {
      "text/plain": [
       "array([0.        , 0.33333333, 0.66666667, 1.        ])"
      ]
     },
     "execution_count": 137,
     "metadata": {},
     "output_type": "execute_result"
    }
   ],
   "source": [
    "le.classes_"
   ]
  },
  {
   "cell_type": "code",
   "execution_count": null,
   "metadata": {},
   "outputs": [],
   "source": []
  }
 ],
 "metadata": {
  "kernelspec": {
   "display_name": "Python 3",
   "language": "python",
   "name": "python3"
  },
  "language_info": {
   "codemirror_mode": {
    "name": "ipython",
    "version": 3
   },
   "file_extension": ".py",
   "mimetype": "text/x-python",
   "name": "python",
   "nbconvert_exporter": "python",
   "pygments_lexer": "ipython3",
   "version": "3.11.4"
  }
 },
 "nbformat": 4,
 "nbformat_minor": 2
}
